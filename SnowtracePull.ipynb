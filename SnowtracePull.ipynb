{
 "cells": [
  {
   "cell_type": "code",
   "execution_count": 1,
   "id": "dbf7c682-3423-40a8-ac60-1e2a41dab426",
   "metadata": {},
   "outputs": [],
   "source": [
    "# Initial imports\n",
    "import os\n",
    "import requests\n",
    "import json\n",
    "from dotenv import load_dotenv\n",
    "import pandas as pd\n",
    "from datetime import datetime\n",
    "import calendar"
   ]
  },
  {
   "cell_type": "code",
   "execution_count": 2,
   "id": "14571842-79b2-4a3e-9377-e7262a140a1c",
   "metadata": {},
   "outputs": [],
   "source": [
    "# Function that converts the datetime.utcnow() to timestamp in seconds\n",
    "def dt2ts(dt):\n",
    "\n",
    "    return calendar.timegm(dt.utctimetuple())"
   ]
  },
  {
   "cell_type": "code",
   "execution_count": 3,
   "id": "dd513e64-6d22-4c55-a186-1baf8d99875e",
   "metadata": {},
   "outputs": [
    {
     "name": "stdout",
     "output_type": "stream",
     "text": [
      "1660541331\n"
     ]
    }
   ],
   "source": [
    "# Sets ts to current timestamp in seconds\n",
    "ts = dt2ts(datetime.utcnow())\n",
    "print(ts)"
   ]
  },
  {
   "cell_type": "code",
   "execution_count": 4,
   "id": "aa737811-bced-4001-ade0-5322d5d357f1",
   "metadata": {},
   "outputs": [
    {
     "data": {
      "text/plain": [
       "True"
      ]
     },
     "execution_count": 4,
     "metadata": {},
     "output_type": "execute_result"
    }
   ],
   "source": [
    "# Load .env environment variables\n",
    "load_dotenv()"
   ]
  },
  {
   "cell_type": "code",
   "execution_count": 5,
   "id": "42884b2e-aeab-4ace-88ca-15c232185204",
   "metadata": {},
   "outputs": [],
   "source": [
    "#Set Snowtrace API Key\n",
    "snowtrace_api_key = os.getenv(\"SNOWTRACE_API_KEY\")"
   ]
  },
  {
   "cell_type": "code",
   "execution_count": 6,
   "id": "027d3877-8023-4f18-bb8a-2a59edf526e9",
   "metadata": {},
   "outputs": [
    {
     "data": {
      "text/plain": [
       "34"
      ]
     },
     "execution_count": 6,
     "metadata": {},
     "output_type": "execute_result"
    }
   ],
   "source": [
    "# Making sure the API Key was properly imported, len = 34\n",
    "len(snowtrace_api_key)"
   ]
  },
  {
   "cell_type": "code",
   "execution_count": 7,
   "id": "21db47e0-ff2c-4536-81d0-22a899a1ae5d",
   "metadata": {},
   "outputs": [],
   "source": [
    "# Create parameterized url\n",
    "request_url = f\"https://api.snowtrace.io/api?module=block&action=getblocknobytime&timestamp={dt2ts(datetime.utcnow())}&closest=before&apikey=\""
   ]
  },
  {
   "cell_type": "code",
   "execution_count": 8,
   "id": "12beb14f-3062-4cef-a072-e30297f312bd",
   "metadata": {},
   "outputs": [
    {
     "name": "stdout",
     "output_type": "stream",
     "text": [
      "{\n",
      "    \"status\": \"1\",\n",
      "    \"message\": \"OK\",\n",
      "    \"result\": \"18662717\"\n",
      "}\n"
     ]
    }
   ],
   "source": [
    "response_data = requests.get(request_url + snowtrace_api_key).json()\n",
    "print(json.dumps(response_data, indent=4))"
   ]
  },
  {
   "cell_type": "code",
   "execution_count": 9,
   "id": "25c5c4a3-7508-4f9c-9e93-6e72a04a5430",
   "metadata": {},
   "outputs": [],
   "source": [
    "request_url_eth = f\"https://api.snowtrace.io/api?module=proxy&action=eth_blockNumber&apikey=\""
   ]
  },
  {
   "cell_type": "code",
   "execution_count": 10,
   "id": "a95cc704-0288-4950-a0b4-9118c2a35586",
   "metadata": {},
   "outputs": [
    {
     "name": "stdout",
     "output_type": "stream",
     "text": [
      "{\n",
      "    \"jsonrpc\": \"2.0\",\n",
      "    \"id\": 83,\n",
      "    \"result\": \"0x11cc53b\"\n",
      "}\n"
     ]
    }
   ],
   "source": [
    "response_data_eth = requests.get(request_url_eth + snowtrace_api_key).json()\n",
    "print(json.dumps(response_data_eth, indent=4))\n"
   ]
  },
  {
   "cell_type": "code",
   "execution_count": 11,
   "id": "e508a877-8993-425c-a41b-a6c042c4dafa",
   "metadata": {},
   "outputs": [
    {
     "name": "stdout",
     "output_type": "stream",
     "text": [
      "18662715\n"
     ]
    }
   ],
   "source": [
    "block = int(response_data_eth['result'],16)\n",
    "block_hex = response_data_eth['result']\n",
    "print(block)"
   ]
  },
  {
   "cell_type": "code",
   "execution_count": 12,
   "id": "e838da00-e089-48ed-994b-430584f8456f",
   "metadata": {},
   "outputs": [],
   "source": [
    "request_url_transaction_num = f\"https://api.snowtrace.io/api?module=proxy&action=eth_getBlockTransactionCountByNumber&tag={block_hex}&apikey=\""
   ]
  },
  {
   "cell_type": "code",
   "execution_count": 13,
   "id": "fcbf846c-e9da-48fc-a6c5-9cca2e4f19c4",
   "metadata": {},
   "outputs": [
    {
     "name": "stdout",
     "output_type": "stream",
     "text": [
      "{\n",
      "    \"jsonrpc\": \"2.0\",\n",
      "    \"id\": 1,\n",
      "    \"result\": \"0x1\"\n",
      "}\n"
     ]
    }
   ],
   "source": [
    "response_data_transaction_num = requests.get(request_url_transaction_num + snowtrace_api_key).json()\n",
    "print(json.dumps(response_data_transaction_num, indent=4))"
   ]
  },
  {
   "cell_type": "code",
   "execution_count": 14,
   "id": "b2526146-a3f2-40db-9a6f-b67c8d4851c7",
   "metadata": {},
   "outputs": [
    {
     "name": "stdout",
     "output_type": "stream",
     "text": [
      "0x0\n"
     ]
    }
   ],
   "source": [
    "i = int(response_data_transaction_num['result'],16)\n",
    "transaction_num = int(response_data_transaction_num['result'],16)\n",
    "transaction_num = transaction_num - transaction_num\n",
    "transaction_num = hex(transaction_num)\n",
    "print(transaction_num)"
   ]
  },
  {
   "cell_type": "code",
   "execution_count": 15,
   "id": "18adda83-4e01-4885-8301-0f950bd6cce7",
   "metadata": {},
   "outputs": [],
   "source": [
    "request_url_block_trans = f\"https://api.snowtrace.io/api?module=proxy&action=eth_getTransactionByBlockNumberAndIndex&tag={block_hex}&index={transaction_num}&apikey=\""
   ]
  },
  {
   "cell_type": "code",
   "execution_count": 16,
   "id": "ab6a506a-e479-431c-9181-b969c76c342c",
   "metadata": {},
   "outputs": [
    {
     "name": "stdout",
     "output_type": "stream",
     "text": [
      "{\n",
      "    \"jsonrpc\": \"2.0\",\n",
      "    \"id\": 1,\n",
      "    \"result\": {\n",
      "        \"blockHash\": \"0xc2711784131f0f9af7edba88a83762bdd92b345bd3578fb28bbbef3bd110b2a2\",\n",
      "        \"blockNumber\": \"0x11cc53b\",\n",
      "        \"from\": \"0xcfc3154a01560691ad71cc31d8b9f8066d605ac9\",\n",
      "        \"gas\": \"0x5208\",\n",
      "        \"gasPrice\": \"0x62b85e900\",\n",
      "        \"maxFeePerGas\": \"0x835105080\",\n",
      "        \"maxPriorityFeePerGas\": \"0x59682f00\",\n",
      "        \"hash\": \"0x70345c7d4823da4361ad128bc318d756f7188b61f8dc1c95f638a8ada7e2c46e\",\n",
      "        \"input\": \"0x\",\n",
      "        \"nonce\": \"0xa\",\n",
      "        \"to\": \"0x939cdb4703b454de42c9afed32c806ae4f289bc6\",\n",
      "        \"transactionIndex\": \"0x0\",\n",
      "        \"value\": \"0x16345785d8a0000\",\n",
      "        \"type\": \"0x2\",\n",
      "        \"accessList\": [],\n",
      "        \"chainId\": \"0xa86a\",\n",
      "        \"v\": \"0x0\",\n",
      "        \"r\": \"0xc78fbc0474f01f9b1912b9da1160dcb3cc266026cc3b34cf8c845c327c42977d\",\n",
      "        \"s\": \"0xb00b16aa8cb84b614c3af31eea9c286caafece5e699bec1392ef3b1de5a1264\"\n",
      "    }\n",
      "}\n"
     ]
    }
   ],
   "source": [
    "response_data_block_trans = requests.get(request_url_block_trans + snowtrace_api_key).json()\n",
    "print(json.dumps(response_data_block_trans, indent=4))"
   ]
  },
  {
   "cell_type": "code",
   "execution_count": 17,
   "id": "23e70235-99fb-46ee-ad7b-64639b4d4db5",
   "metadata": {},
   "outputs": [
    {
     "name": "stdout",
     "output_type": "stream",
     "text": [
      "Must be something on there\n"
     ]
    }
   ],
   "source": [
    "transaction_desc = response_data_block_trans['result']\n",
    "if transaction_desc == None:\n",
    "    print(transaction_desc)\n",
    "else: print('Must be something on there')"
   ]
  },
  {
   "cell_type": "code",
   "execution_count": 18,
   "id": "c3f9e188-1601-4381-b92e-d8c2e69b6033",
   "metadata": {},
   "outputs": [
    {
     "name": "stdout",
     "output_type": "stream",
     "text": [
      "0x70345c7d4823da4361ad128bc318d756f7188b61f8dc1c95f638a8ada7e2c46e\n"
     ]
    }
   ],
   "source": [
    "transaction_hash = response_data_block_trans['result']['hash']\n",
    "print(transaction_hash)"
   ]
  },
  {
   "cell_type": "code",
   "execution_count": 19,
   "id": "271fb155-8aad-42a8-b3f7-e76210264fc0",
   "metadata": {},
   "outputs": [],
   "source": [
    "request_url_hash_receipt = f\"https://api.snowtrace.io/api?module=proxy&action=eth_getTransactionReceipt&txhash={transaction_hash}&apikey=\""
   ]
  },
  {
   "cell_type": "code",
   "execution_count": 20,
   "id": "f32d8278-ad88-42f2-ba6b-822f85ac34da",
   "metadata": {},
   "outputs": [
    {
     "name": "stdout",
     "output_type": "stream",
     "text": [
      "{\n",
      "    \"jsonrpc\": \"2.0\",\n",
      "    \"id\": 1,\n",
      "    \"result\": {\n",
      "        \"blockHash\": \"0xc2711784131f0f9af7edba88a83762bdd92b345bd3578fb28bbbef3bd110b2a2\",\n",
      "        \"blockNumber\": \"0x11cc53b\",\n",
      "        \"contractAddress\": null,\n",
      "        \"cumulativeGasUsed\": \"0x5208\",\n",
      "        \"effectiveGasPrice\": \"0x62b85e900\",\n",
      "        \"from\": \"0xcfc3154a01560691ad71cc31d8b9f8066d605ac9\",\n",
      "        \"gasUsed\": \"0x5208\",\n",
      "        \"logs\": [],\n",
      "        \"logsBloom\": \"0x00000000000000000000000000000000000000000000000000000000000000000000000000000000000000000000000000000000000000000000000000000000000000000000000000000000000000000000000000000000000000000000000000000000000000000000000000000000000000000000000000000000000000000000000000000000000000000000000000000000000000000000000000000000000000000000000000000000000000000000000000000000000000000000000000000000000000000000000000000000000000000000000000000000000000000000000000000000000000000000000000000000000000000000000000000000\",\n",
      "        \"status\": \"0x1\",\n",
      "        \"to\": \"0x939cdb4703b454de42c9afed32c806ae4f289bc6\",\n",
      "        \"transactionHash\": \"0x70345c7d4823da4361ad128bc318d756f7188b61f8dc1c95f638a8ada7e2c46e\",\n",
      "        \"transactionIndex\": \"0x0\",\n",
      "        \"type\": \"0x2\"\n",
      "    }\n",
      "}\n"
     ]
    }
   ],
   "source": [
    "response_data_hash_receipt = requests.get(request_url_hash_receipt + snowtrace_api_key).json()\n",
    "print(json.dumps(response_data_hash_receipt, indent=4))"
   ]
  },
  {
   "cell_type": "code",
   "execution_count": 23,
   "id": "d7888018-601d-491e-83ae-3a55e91417c8",
   "metadata": {},
   "outputs": [],
   "source": [
    "request_url_logs = f\"https://api.snowtrace.io/api?module=logs&action=getLogs&fromBlock='latest'&toBlock='latest'&address=0x6121191018baf067c6dc6b18d42329447a164f05&topic0xddf252ad1be2c89b69c2b068fc378daa952ba7f163c4a11628f55a4df523b3ef&apikey=\""
   ]
  },
  {
   "cell_type": "code",
   "execution_count": 24,
   "id": "ca4b5e0e-bf52-427b-98ba-1b6be740e970",
   "metadata": {},
   "outputs": [
    {
     "name": "stdout",
     "output_type": "stream",
     "text": [
      "{\n",
      "    \"status\": \"0\",\n",
      "    \"message\": \"Query Timeout occured. Please select a smaller result dataset\",\n",
      "    \"result\": null\n",
      "}\n"
     ]
    }
   ],
   "source": [
    "response_data_logs = requests.get(request_url_logs + snowtrace_api_key).json()\n",
    "print(json.dumps(response_data_logs, indent=4))"
   ]
  },
  {
   "cell_type": "code",
   "execution_count": null,
   "id": "3b9b35e6-9ee9-44ea-bcdb-2ac418f3b1bb",
   "metadata": {},
   "outputs": [],
   "source": []
  }
 ],
 "metadata": {
  "kernelspec": {
   "display_name": "Python 3 (ipykernel)",
   "language": "python",
   "name": "python3"
  },
  "language_info": {
   "codemirror_mode": {
    "name": "ipython",
    "version": 3
   },
   "file_extension": ".py",
   "mimetype": "text/x-python",
   "name": "python",
   "nbconvert_exporter": "python",
   "pygments_lexer": "ipython3",
   "version": "3.7.13"
  }
 },
 "nbformat": 4,
 "nbformat_minor": 5
}
