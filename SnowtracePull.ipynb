{
 "cells": [
  {
   "cell_type": "code",
   "execution_count": 1,
   "id": "dbf7c682-3423-40a8-ac60-1e2a41dab426",
   "metadata": {},
   "outputs": [],
   "source": [
    "# Initial imports\n",
    "import os\n",
    "import requests\n",
    "import json\n",
    "from dotenv import load_dotenv\n",
    "import pandas as pd\n",
    "from datetime import datetime\n",
    "import calendar"
   ]
  },
  {
   "cell_type": "code",
   "execution_count": 2,
   "id": "14571842-79b2-4a3e-9377-e7262a140a1c",
   "metadata": {},
   "outputs": [],
   "source": [
    "# Function that converts the datetime.utcnow() to timestamp in seconds\n",
    "def dt2ts(dt):\n",
    "\n",
    "    return calendar.timegm(dt.utctimetuple())"
   ]
  },
  {
   "cell_type": "code",
   "execution_count": 3,
   "id": "dd513e64-6d22-4c55-a186-1baf8d99875e",
   "metadata": {},
   "outputs": [
    {
     "name": "stdout",
     "output_type": "stream",
     "text": [
      "1660519245\n"
     ]
    }
   ],
   "source": [
    "# Sets ts to current timestamp in seconds\n",
    "ts = dt2ts(datetime.utcnow())\n",
    "print(ts)"
   ]
  },
  {
   "cell_type": "code",
   "execution_count": 4,
   "id": "aa737811-bced-4001-ade0-5322d5d357f1",
   "metadata": {},
   "outputs": [
    {
     "data": {
      "text/plain": [
       "True"
      ]
     },
     "execution_count": 4,
     "metadata": {},
     "output_type": "execute_result"
    }
   ],
   "source": [
    "# Load .env environment variables\n",
    "load_dotenv()"
   ]
  },
  {
   "cell_type": "code",
   "execution_count": 5,
   "id": "42884b2e-aeab-4ace-88ca-15c232185204",
   "metadata": {},
   "outputs": [],
   "source": [
    "#Set Snowtrace API Key\n",
    "snowtrace_api_key = os.getenv(\"SNOWTRACE_API_KEY\")"
   ]
  },
  {
   "cell_type": "code",
   "execution_count": 6,
   "id": "027d3877-8023-4f18-bb8a-2a59edf526e9",
   "metadata": {},
   "outputs": [
    {
     "data": {
      "text/plain": [
       "34"
      ]
     },
     "execution_count": 6,
     "metadata": {},
     "output_type": "execute_result"
    }
   ],
   "source": [
    "# Making sure the API Key was properly imported, len = 34\n",
    "len(snowtrace_api_key)"
   ]
  },
  {
   "cell_type": "code",
   "execution_count": 7,
   "id": "21db47e0-ff2c-4536-81d0-22a899a1ae5d",
   "metadata": {},
   "outputs": [],
   "source": [
    "# Create parameterized url\n",
    "request_url = f\"https://api.snowtrace.io/api?module=block&action=getblocknobytime&timestamp={dt2ts(datetime.utcnow())}&closest=before&apikey=\""
   ]
  },
  {
   "cell_type": "code",
   "execution_count": 8,
   "id": "12beb14f-3062-4cef-a072-e30297f312bd",
   "metadata": {},
   "outputs": [
    {
     "name": "stdout",
     "output_type": "stream",
     "text": [
      "{\n",
      "    \"status\": \"1\",\n",
      "    \"message\": \"OK\",\n",
      "    \"result\": \"18651779\"\n",
      "}\n"
     ]
    }
   ],
   "source": [
    "response_data = requests.get(request_url + snowtrace_api_key).json()\n",
    "print(json.dumps(response_data, indent=4))"
   ]
  },
  {
   "cell_type": "code",
   "execution_count": null,
   "id": "25c5c4a3-7508-4f9c-9e93-6e72a04a5430",
   "metadata": {},
   "outputs": [],
   "source": []
  }
 ],
 "metadata": {
  "kernelspec": {
   "display_name": "Python 3 (ipykernel)",
   "language": "python",
   "name": "python3"
  },
  "language_info": {
   "codemirror_mode": {
    "name": "ipython",
    "version": 3
   },
   "file_extension": ".py",
   "mimetype": "text/x-python",
   "name": "python",
   "nbconvert_exporter": "python",
   "pygments_lexer": "ipython3",
   "version": "3.7.13"
  }
 },
 "nbformat": 4,
 "nbformat_minor": 5
}
