{
 "cells": [
  {
   "cell_type": "code",
   "execution_count": 2,
   "id": "39d7d048-4210-4356-91d4-8a42f5c65730",
   "metadata": {},
   "outputs": [],
   "source": [
    "# Initial imports\n",
    "import os\n",
    "import requests\n",
    "import json\n",
    "from dotenv import load_dotenv\n",
    "import pandas as pd\n",
    "from datetime import datetime\n",
    "import calendar"
   ]
  },
  {
   "cell_type": "code",
   "execution_count": 3,
   "id": "3b33e68e-cb28-44aa-8c92-3b60a0dcbe11",
   "metadata": {},
   "outputs": [],
   "source": [
    "# Function that converts the datetime.utcnow() to timestamp in seconds\n",
    "def dt2ts(dt):\n",
    "\n",
    "    return calendar.timegm(dt.utctimetuple())"
   ]
  },
  {
   "cell_type": "code",
   "execution_count": 4,
   "id": "813e2930-c7c5-40f7-a915-cc644d6e315d",
   "metadata": {},
   "outputs": [
    {
     "name": "stdout",
     "output_type": "stream",
     "text": [
      "1660540229\n"
     ]
    }
   ],
   "source": [
    "# Sets ts to current timestamp in seconds\n",
    "ts = dt2ts(datetime.utcnow())\n",
    "print(ts)"
   ]
  },
  {
   "cell_type": "code",
   "execution_count": 5,
   "id": "bb9f00a5-7b35-4008-985c-e1987fa9fe4e",
   "metadata": {},
   "outputs": [
    {
     "data": {
      "text/plain": [
       "True"
      ]
     },
     "execution_count": 5,
     "metadata": {},
     "output_type": "execute_result"
    }
   ],
   "source": [
    "# Load .env environment variables\n",
    "load_dotenv()"
   ]
  },
  {
   "cell_type": "code",
   "execution_count": 6,
   "id": "bee43a78-c91b-48af-aa75-623706a550cb",
   "metadata": {},
   "outputs": [],
   "source": [
    "covalenthq_api_key = os.getenv(\"COVALENTHQ_API_KEY\")\n",
    "chain_id = 43114\n",
    "contract_id = '0x60aE616a2155Ee3d9A68541Ba4544862310933d4'"
   ]
  },
  {
   "cell_type": "code",
   "execution_count": 7,
   "id": "81fee870-cd4d-49a3-a74b-1fa6f3acce38",
   "metadata": {},
   "outputs": [
    {
     "data": {
      "text/plain": [
       "32"
      ]
     },
     "execution_count": 7,
     "metadata": {},
     "output_type": "execute_result"
    }
   ],
   "source": [
    "len(covalenthq_api_key)"
   ]
  },
  {
   "cell_type": "code",
   "execution_count": 8,
   "id": "8b1686e6-b093-416e-8ace-109f60ca8e39",
   "metadata": {},
   "outputs": [],
   "source": [
    "cov_url_trans_req = f\"https://api.covalenthq.com/v1/{chain_id}/address/{contract_id}/transactions_v2/?key=\""
   ]
  },
  {
   "cell_type": "code",
   "execution_count": 9,
   "id": "71044094-0e11-46be-828c-6a6956bb0db6",
   "metadata": {},
   "outputs": [],
   "source": [
    "#response_data_cov_trans = requests.get(cov_url_trans_req + covalenthq_api_key)#.json()\n",
    "#print(json.dumps(response_data_cov_trans, indent=4))"
   ]
  },
  {
   "cell_type": "code",
   "execution_count": null,
   "id": "7db71338-3a03-46a5-b311-382e8ccf732e",
   "metadata": {},
   "outputs": [],
   "source": []
  }
 ],
 "metadata": {
  "kernelspec": {
   "display_name": "Python 3 (ipykernel)",
   "language": "python",
   "name": "python3"
  },
  "language_info": {
   "codemirror_mode": {
    "name": "ipython",
    "version": 3
   },
   "file_extension": ".py",
   "mimetype": "text/x-python",
   "name": "python",
   "nbconvert_exporter": "python",
   "pygments_lexer": "ipython3",
   "version": "3.7.13"
  }
 },
 "nbformat": 4,
 "nbformat_minor": 5
}
