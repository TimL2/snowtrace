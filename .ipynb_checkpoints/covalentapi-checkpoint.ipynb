{
 "cells": [
  {
   "cell_type": "code",
   "execution_count": 1,
   "id": "39d7d048-4210-4356-91d4-8a42f5c65730",
   "metadata": {},
   "outputs": [],
   "source": [
    "# Initial imports\n",
    "import os\n",
    "import requests\n",
    "import json\n",
    "from dotenv import load_dotenv\n",
    "import pandas as pd\n",
    "from datetime import datetime\n",
    "import calendar"
   ]
  },
  {
   "cell_type": "code",
   "execution_count": 2,
   "id": "3b33e68e-cb28-44aa-8c92-3b60a0dcbe11",
   "metadata": {},
   "outputs": [],
   "source": [
    "# Function that converts the datetime.utcnow() to timestamp in seconds\n",
    "def dt2ts(dt):\n",
    "\n",
    "    return calendar.timegm(dt.utctimetuple())"
   ]
  },
  {
   "cell_type": "code",
   "execution_count": 3,
   "id": "813e2930-c7c5-40f7-a915-cc644d6e315d",
   "metadata": {},
   "outputs": [
    {
     "name": "stdout",
     "output_type": "stream",
     "text": [
      "1660564951\n"
     ]
    }
   ],
   "source": [
    "# Sets ts to current timestamp in seconds\n",
    "ts = dt2ts(datetime.utcnow())\n",
    "print(ts)"
   ]
  },
  {
   "cell_type": "code",
   "execution_count": 4,
   "id": "bb9f00a5-7b35-4008-985c-e1987fa9fe4e",
   "metadata": {},
   "outputs": [
    {
     "data": {
      "text/plain": [
       "True"
      ]
     },
     "execution_count": 4,
     "metadata": {},
     "output_type": "execute_result"
    }
   ],
   "source": [
    "# Load .env environment variables\n",
    "load_dotenv()"
   ]
  },
  {
   "cell_type": "code",
   "execution_count": 5,
   "id": "bee43a78-c91b-48af-aa75-623706a550cb",
   "metadata": {},
   "outputs": [],
   "source": [
    "covalenthq_api_key = os.getenv(\"COVALENTHQ_API_KEY\")\n",
    "chain_id = 43114\n",
    "contract_id = '0x60aE616a2155Ee3d9A68541Ba4544862310933d4'\n",
    "block_height = 'latest'"
   ]
  },
  {
   "cell_type": "code",
   "execution_count": 6,
   "id": "81fee870-cd4d-49a3-a74b-1fa6f3acce38",
   "metadata": {},
   "outputs": [
    {
     "data": {
      "text/plain": [
       "32"
      ]
     },
     "execution_count": 6,
     "metadata": {},
     "output_type": "execute_result"
    }
   ],
   "source": [
    "len(covalenthq_api_key)"
   ]
  },
  {
   "cell_type": "code",
   "execution_count": 7,
   "id": "8b1686e6-b093-416e-8ace-109f60ca8e39",
   "metadata": {},
   "outputs": [],
   "source": [
    "cov_url_block = f\"https://api.covalenthq.com/v1/{chain_id}/block_v2/{block_height}/?&key=\""
   ]
  },
  {
   "cell_type": "code",
   "execution_count": 8,
   "id": "71044094-0e11-46be-828c-6a6956bb0db6",
   "metadata": {},
   "outputs": [
    {
     "name": "stdout",
     "output_type": "stream",
     "text": [
      "{\n",
      "    \"data\": {\n",
      "        \"updated_at\": \"2022-08-15T12:02:40.218625168Z\",\n",
      "        \"items\": [\n",
      "            {\n",
      "                \"signed_at\": \"2022-08-15T12:02:32Z\",\n",
      "                \"height\": 18674458\n",
      "            }\n",
      "        ],\n",
      "        \"pagination\": null\n",
      "    },\n",
      "    \"error\": false,\n",
      "    \"error_message\": null,\n",
      "    \"error_code\": null\n",
      "}\n"
     ]
    }
   ],
   "source": [
    "response_data_block = requests.get(cov_url_block + covalenthq_api_key).json()\n",
    "print(json.dumps(response_data_block, indent=4))\n"
   ]
  },
  {
   "cell_type": "code",
   "execution_count": 9,
   "id": "7db71338-3a03-46a5-b311-382e8ccf732e",
   "metadata": {},
   "outputs": [
    {
     "name": "stdout",
     "output_type": "stream",
     "text": [
      "18674458\n"
     ]
    }
   ],
   "source": [
    "block_id = response_data_block['data']['items'][0]['height']\n",
    "print(block_id)"
   ]
  },
  {
   "cell_type": "code",
   "execution_count": 10,
   "id": "ecf83700-a832-4a08-967c-175c1af3e851",
   "metadata": {},
   "outputs": [],
   "source": [
    "#Hopefully Better Method:\n",
    "chain_id = 43114\n",
    "address = '0x60ae616a2155ee3d9a68541ba4544862310933d4'\n",
    "\n",
    "\n",
    "host = \"https://api.covalenthq.com/\"\n",
    "endpoint = f'v1/{chain_id}/address/{address}/transfers_v2/?&key={covalenthq_api_key}'\n",
    "\n",
    "headers = {\n",
    "    \"cache-control\":\"no-store, max-age=0\",\n",
    "    \"content-type\":\"application/json\"\n",
    "}\n",
    "\n",
    "parameters = {\n",
    "    \"contract-address\":\"0x9ad6c38be94206ca50bb0d90783181662f0cfa10\",\n",
    "    \"quote-currency\":\"USD\"\n",
    "}"
   ]
  },
  {
   "cell_type": "code",
   "execution_count": 11,
   "id": "2e7af69a-d661-4cbc-9426-5223ee96fb68",
   "metadata": {},
   "outputs": [],
   "source": [
    "request = requests.get(f\"https://api.covalenthq.com/v1/{chain_id}/address/{address}/transactions_v2/?quote-currency=USD&format=JSON&block-signed-at-asc=false&no-logs=false&key={covalenthq_api_key}\")"
   ]
  },
  {
   "cell_type": "code",
   "execution_count": 12,
   "id": "012fca87-8d8b-4ef6-a009-f82f48225fee",
   "metadata": {},
   "outputs": [
    {
     "name": "stdout",
     "output_type": "stream",
     "text": [
      "<Response [504]>\n"
     ]
    }
   ],
   "source": [
    "print(request)"
   ]
  },
  {
   "cell_type": "code",
   "execution_count": null,
   "id": "6a7ab4ba-bcff-423f-9063-0387b0598569",
   "metadata": {},
   "outputs": [],
   "source": []
  }
 ],
 "metadata": {
  "kernelspec": {
   "display_name": "Python 3 (ipykernel)",
   "language": "python",
   "name": "python3"
  },
  "language_info": {
   "codemirror_mode": {
    "name": "ipython",
    "version": 3
   },
   "file_extension": ".py",
   "mimetype": "text/x-python",
   "name": "python",
   "nbconvert_exporter": "python",
   "pygments_lexer": "ipython3",
   "version": "3.7.13"
  }
 },
 "nbformat": 4,
 "nbformat_minor": 5
}
